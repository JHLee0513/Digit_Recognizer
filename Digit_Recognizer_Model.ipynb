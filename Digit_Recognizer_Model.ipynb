{
 "cells": [
  {
   "cell_type": "code",
   "execution_count": 1,
   "metadata": {},
   "outputs": [],
   "source": [
    "#Recorded accuracy = 0.9966\n",
    "\n",
    "#Courtesy to https://www.kaggle.com/yassineghouzam/introduction-to-cnn-keras-0-997-top-6\n",
    "\n",
    "\n",
    "#Testing tensorflow import works first\n",
    "import tensorflow as tf"
   ]
  },
  {
   "cell_type": "code",
   "execution_count": 2,
   "metadata": {},
   "outputs": [
    {
     "name": "stderr",
     "output_type": "stream",
     "text": [
      "Using Theano backend.\n"
     ]
    }
   ],
   "source": [
    "#Necessary Imports for this algorithm\n",
    "\n",
    "import pandas as pd\n",
    "import numpy as np\n",
    "import matplotlib.pyplot as plt\n",
    "import matplotlib.image as mpimg\n",
    "import seaborn as sns\n",
    "%matplotlib inline\n",
    "\n",
    "np.random.seed(2)\n",
    "\n",
    "from sklearn.model_selection import train_test_split\n",
    "from sklearn.metrics import confusion_matrix\n",
    "import itertools\n",
    "\n",
    "from keras.utils.np_utils import to_categorical # convert to one-hot-encoding\n",
    "from keras.models import Sequential\n",
    "from keras.layers import Dense, Dropout, Flatten, Conv2D, MaxPool2D\n",
    "from keras.optimizers import RMSprop\n",
    "from keras.preprocessing.image import ImageDataGenerator\n",
    "from keras.callbacks import ReduceLROnPlateau\n",
    "\n",
    "sns.set(style='white', context='notebook', palette='deep')\n"
   ]
  },
  {
   "cell_type": "code",
   "execution_count": 5,
   "metadata": {},
   "outputs": [],
   "source": [
    "# Load the data, provided by Kaggle.com\n",
    "train = pd.read_csv(\"C:\\\\Users\\\\JoonH\\\\Desktop\\\\Kaggle_data\\\\digits_train.csv\")\n",
    "test = pd.read_csv(\"C:\\\\Users\\\\JoonH\\\\Desktop\\\\Kaggle_data\\\\digits_test.csv\")"
   ]
  },
  {
   "cell_type": "code",
   "execution_count": 6,
   "metadata": {},
   "outputs": [
    {
     "data": {
      "text/plain": [
       "1    4684\n",
       "7    4401\n",
       "3    4351\n",
       "9    4188\n",
       "2    4177\n",
       "6    4137\n",
       "0    4132\n",
       "4    4072\n",
       "8    4063\n",
       "5    3795\n",
       "Name: label, dtype: int64"
      ]
     },
     "execution_count": 6,
     "metadata": {},
     "output_type": "execute_result"
    },
    {
     "data": {
      "image/png": "[encoded data removed]",
      "text/plain": [
       "<matplotlib.figure.Figure at 0x1e79868c908>"
      ]
     },
     "metadata": {},
     "output_type": "display_data"
    }
   ],
   "source": [
    "Y_train = train[\"label\"]\n",
    "\n",
    "# Drop 'label' column\n",
    "X_train = train.drop(labels = [\"label\"],axis = 1) \n",
    "\n",
    "# free some space\n",
    "del train \n",
    "\n",
    "g = sns.countplot(Y_train)\n",
    "\n",
    "#Plotting count of data for each digit\n",
    "Y_train.value_counts()"
   ]
  },
  {
   "cell_type": "code",
   "execution_count": 7,
   "metadata": {
    "scrolled": true
   },
   "outputs": [],
   "source": [
    "#Principal Component Analysis\n",
    "\n",
    "#from sklearn.decomposition import PCA\n",
    "\n",
    "#pca = PCA(n_components = 10)\n",
    "#X_train = pca.fit(X_train).transform(X_train)\n",
    "\n",
    "\n",
    "# TODO(0) : change code so that PCA can take place to reduce data into significant components"
   ]
  },
  {
   "cell_type": "code",
   "execution_count": 8,
   "metadata": {},
   "outputs": [
    {
     "data": {
      "text/plain": [
       "count       784\n",
       "unique        1\n",
       "top       False\n",
       "freq        784\n",
       "dtype: object"
      ]
     },
     "execution_count": 8,
     "metadata": {},
     "output_type": "execute_result"
    }
   ],
   "source": [
    "#Testing for any null or unusable data to remove before training\n",
    "X_train.isnull().any().describe()\n",
    "\n"
   ]
  },
  {
   "cell_type": "code",
   "execution_count": 9,
   "metadata": {},
   "outputs": [
    {
     "data": {
      "text/plain": [
       "count       784\n",
       "unique        1\n",
       "top       False\n",
       "freq        784\n",
       "dtype: object"
      ]
     },
     "execution_count": 9,
     "metadata": {},
     "output_type": "execute_result"
    }
   ],
   "source": [
    "#Testing for any null or unusable data\n",
    "test.isnull().any().describe()"
   ]
  },
  {
   "cell_type": "code",
   "execution_count": 10,
   "metadata": {},
   "outputs": [],
   "source": [
    "# Grayscale normalization of the data\n",
    "# since CNN converges faster with [0,1] when current data goes [0,255]\n",
    "X_train = X_train / 255.0\n",
    "test = test / 255.0"
   ]
  },
  {
   "cell_type": "code",
   "execution_count": 11,
   "metadata": {},
   "outputs": [],
   "source": [
    "# Reshape image in 3 dimensions (height = 28px, width = 28px , canal = 1)\n",
    "X_train = X_train.values.reshape(-1,28,28,1)\n",
    "test = test.values.reshape(-1,28,28,1)"
   ]
  },
  {
   "cell_type": "code",
   "execution_count": 12,
   "metadata": {},
   "outputs": [],
   "source": [
    "# Encode labels to one hot vectors (ex : 2 -> [0,0,1,0,0,0,0,0,0,0])\n",
    "Y_train = to_categorical(Y_train, num_classes = 10)"
   ]
  },
  {
   "cell_type": "code",
   "execution_count": 13,
   "metadata": {},
   "outputs": [],
   "source": [
    "# Set the random seed, actually already set before\n",
    "random_seed = 2"
   ]
  },
  {
   "cell_type": "code",
   "execution_count": 14,
   "metadata": {},
   "outputs": [],
   "source": [
    "# Split the train and the validation set for the fitting\n",
    "X_train, X_val, Y_train, Y_val = train_test_split(X_train, Y_train, test_size = 0.1, random_state=random_seed)\n",
    "\n",
    "\n",
    "#I choosed to split the train set in two parts : a small fraction (10%) became the validation set which the model is evaluated and the rest (90%) is used to train the model.\n",
    "#Since we have 42 000 training images of balanced labels (see 2.1 Load data), a random split of the train set doesn't cause some labels to be over represented in the validation set. Be carefull with some unbalanced dataset a simple random split could cause inaccurate evaluation during the validation.\n",
    "#To avoid that, you could use stratify = True option in train_test_split function (Only for >=0.17 sklearn versions).\n"
   ]
  },
  {
   "cell_type": "code",
   "execution_count": 15,
   "metadata": {},
   "outputs": [],
   "source": [
    "# Set the CNN model \n",
    "# my CNN architechture is In -> [[Conv2D->relu]*2 -> MaxPool2D -> Dropout]*2 -> Flatten -> Dense -> Dropout -> Out\n",
    "# Expanded from origianl example model\n",
    "\n",
    "model = Sequential()\n",
    "\n",
    "model.add(Conv2D(filters = 32, kernel_size = (5,5),padding = 'Same', \n",
    "                 activation ='relu', input_shape = (28,28,1)))\n",
    "model.add(Conv2D(filters = 32, kernel_size = (5,5),padding = 'Same', \n",
    "                 activation ='relu'))\n",
    "model.add(MaxPool2D(pool_size=(2,2)))\n",
    "model.add(Dropout(0.25))\n",
    "\n",
    "\n",
    "model.add(Conv2D(filters = 64, kernel_size = (3,3),padding = 'Same', \n",
    "                 activation ='relu'))\n",
    "model.add(Conv2D(filters = 64, kernel_size = (3,3),padding = 'Same', \n",
    "                 activation ='relu'))\n",
    "model.add(MaxPool2D(pool_size=(2,2), strides=(2,2)))\n",
    "model.add(Dropout(0.25))\n",
    "\n",
    "\n",
    "model.add(Conv2D(filters = 128, kernel_size = (3,3),padding = 'Same', \n",
    "                 activation ='relu'))\n",
    "model.add(Conv2D(filters = 128, kernel_size = (3,3),padding = 'Same', \n",
    "                 activation ='relu'))\n",
    "model.add(MaxPool2D(pool_size=(2,2), strides=(2,2)))\n",
    "model.add(Dropout(0.25))\n",
    "\n",
    "model.add(Flatten())\n",
    "model.add(Dense(256, activation = \"relu\"))\n",
    "model.add(Dropout(0.5))\n",
    "model.add(Dense(10, activation = \"softmax\"))"
   ]
  },
  {
   "cell_type": "code",
   "execution_count": 16,
   "metadata": {},
   "outputs": [],
   "source": [
    "# Define the optimizer\n",
    "optimizer = RMSprop(lr=0.001, rho=0.9, epsilon=1e-08, decay=0.0)\n",
    "\n"
   ]
  },
  {
   "cell_type": "code",
   "execution_count": 17,
   "metadata": {},
   "outputs": [],
   "source": [
    "# Compile the model\n",
    "model.compile(optimizer = optimizer , loss = \"categorical_crossentropy\", metrics=[\"accuracy\"])"
   ]
  },
  {
   "cell_type": "code",
   "execution_count": 18,
   "metadata": {},
   "outputs": [],
   "source": [
    "# Set a learning rate annealer, learning rate is checked every two runes to see if accuracy has increased,\n",
    "# If not showing much improvement learning rate is reduced by factor of 0.5\n",
    "learning_rate_reduction = ReduceLROnPlateau(monitor='val_acc', \n",
    "                                            patience=2, \n",
    "                                            verbose=1, \n",
    "                                            factor=0.50, \n",
    "                                            min_lr=0.00001)"
   ]
  },
  {
   "cell_type": "code",
   "execution_count": 19,
   "metadata": {},
   "outputs": [],
   "source": [
    "epochs = 35 # Accuracy increases as epoch approaches around 30 or higher\n",
    "batch_size = 86"
   ]
  },
  {
   "cell_type": "code",
   "execution_count": 20,
   "metadata": {},
   "outputs": [],
   "source": [
    "# Without data augmentation i obtained an accuracy of 0.98114\n",
    "#history = model.fit(X_train, Y_train, batch_size = batch_size, epochs = epochs, \n",
    "#          validation_data = (X_val, Y_val), verbose = 2)"
   ]
  },
  {
   "cell_type": "code",
   "execution_count": 21,
   "metadata": {},
   "outputs": [],
   "source": [
    "# With data augmentation to prevent overfitting (accuracy 0.99286)\n",
    "\n",
    "datagen = ImageDataGenerator(\n",
    "        featurewise_center=False,  # set input mean to 0 over the dataset\n",
    "        samplewise_center=False,  # set each sample mean to 0\n",
    "        featurewise_std_normalization=False,  # divide inputs by std of the dataset\n",
    "        samplewise_std_normalization=False,  # divide each input by its std\n",
    "        zca_whitening=False,  # apply ZCA whitening\n",
    "        rotation_range=10,  # randomly rotate images in the range (degrees, 0 to 180)\n",
    "        zoom_range = 0.11, # Randomly zoom image \n",
    "        width_shift_range=0.11,  # randomly shift images horizontally (fraction of total width)\n",
    "        height_shift_range=0.11,  # randomly shift images vertically (fraction of total height)\n",
    "        horizontal_flip=False,  # randomly flip images\n",
    "        vertical_flip=False)  # randomly flip images\n",
    "\n",
    "\n",
    "datagen.fit(X_train)"
   ]
  },
  {
   "cell_type": "code",
   "execution_count": 22,
   "metadata": {},
   "outputs": [
    {
     "name": "stderr",
     "output_type": "stream",
     "text": [
      "WARNING (theano.tensor.blas): We did not find a dynamic library in the library_dir of the library we use for blas. If you use ATLAS, make sure to compile it with dynamics library.\n"
     ]
    },
    {
     "name": "stdout",
     "output_type": "stream",
     "text": [
      "Epoch 1/35\n",
      " - 244s - loss: 0.5538 - acc: 0.8170 - val_loss: 0.0704 - val_acc: 0.9790\n",
      "Epoch 2/35\n",
      " - 242s - loss: 0.1208 - acc: 0.9659 - val_loss: 0.0513 - val_acc: 0.9848\n",
      "Epoch 3/35\n",
      " - 257s - loss: 0.0897 - acc: 0.9745 - val_loss: 0.0446 - val_acc: 0.9864\n",
      "Epoch 4/35\n",
      " - 245s - loss: 0.0729 - acc: 0.9793 - val_loss: 0.0407 - val_acc: 0.9888\n",
      "Epoch 5/35\n",
      " - 238s - loss: 0.0698 - acc: 0.9811 - val_loss: 0.0340 - val_acc: 0.9910\n",
      "Epoch 6/35\n",
      " - 239s - loss: 0.0626 - acc: 0.9826 - val_loss: 0.0389 - val_acc: 0.9919\n",
      "Epoch 7/35\n",
      " - 240s - loss: 0.0603 - acc: 0.9834 - val_loss: 0.0340 - val_acc: 0.9921\n",
      "Epoch 8/35\n",
      " - 247s - loss: 0.0617 - acc: 0.9837 - val_loss: 0.0399 - val_acc: 0.9917\n",
      "Epoch 9/35\n",
      " - 253s - loss: 0.0637 - acc: 0.9841 - val_loss: 0.0274 - val_acc: 0.9910\n",
      "Epoch 10/35\n",
      " - 242s - loss: 0.0615 - acc: 0.9842 - val_loss: 0.0604 - val_acc: 0.9860\n",
      "\n",
      "Epoch 00010: ReduceLROnPlateau reducing learning rate to 0.0005000000237487257.\n",
      "Epoch 11/35\n",
      " - 259s - loss: 0.0441 - acc: 0.9885 - val_loss: 0.0260 - val_acc: 0.9940\n",
      "Epoch 12/35\n",
      " - 265s - loss: 0.0449 - acc: 0.9886 - val_loss: 0.0309 - val_acc: 0.9929\n",
      "Epoch 13/35\n",
      " - 266s - loss: 0.0422 - acc: 0.9893 - val_loss: 0.0323 - val_acc: 0.9936\n",
      "Epoch 14/35\n",
      " - 271s - loss: 0.0422 - acc: 0.9895 - val_loss: 0.0260 - val_acc: 0.9936\n",
      "\n",
      "Epoch 00014: ReduceLROnPlateau reducing learning rate to 0.0002500000118743628.\n",
      "Epoch 15/35\n",
      " - 280s - loss: 0.0353 - acc: 0.9907 - val_loss: 0.0236 - val_acc: 0.9933\n",
      "Epoch 16/35\n",
      " - 260s - loss: 0.0333 - acc: 0.9917 - val_loss: 0.0256 - val_acc: 0.9943\n",
      "Epoch 17/35\n",
      " - 240s - loss: 0.0325 - acc: 0.9912 - val_loss: 0.0342 - val_acc: 0.9945\n",
      "Epoch 18/35\n",
      " - 235s - loss: 0.0363 - acc: 0.9910 - val_loss: 0.0382 - val_acc: 0.9924\n",
      "Epoch 19/35\n",
      " - 239s - loss: 0.0306 - acc: 0.9916 - val_loss: 0.0288 - val_acc: 0.9945\n",
      "Epoch 20/35\n",
      " - 245s - loss: 0.0332 - acc: 0.9920 - val_loss: 0.0307 - val_acc: 0.9948\n",
      "Epoch 21/35\n",
      " - 243s - loss: 0.0354 - acc: 0.9915 - val_loss: 0.0335 - val_acc: 0.9943\n",
      "Epoch 22/35\n",
      " - 249s - loss: 0.0327 - acc: 0.9911 - val_loss: 0.0348 - val_acc: 0.9933\n",
      "Epoch 23/35\n",
      " - 261s - loss: 0.0337 - acc: 0.9918 - val_loss: 0.0576 - val_acc: 0.9912\n",
      "\n",
      "Epoch 00023: ReduceLROnPlateau reducing learning rate to 0.0001250000059371814.\n",
      "Epoch 24/35\n",
      " - 240s - loss: 0.0273 - acc: 0.9923 - val_loss: 0.0371 - val_acc: 0.9938\n",
      "Epoch 25/35\n",
      " - 240s - loss: 0.0278 - acc: 0.9928 - val_loss: 0.0289 - val_acc: 0.9950\n",
      "Epoch 26/35\n",
      " - 240s - loss: 0.0283 - acc: 0.9929 - val_loss: 0.0305 - val_acc: 0.9938\n",
      "Epoch 27/35\n",
      " - 242s - loss: 0.0272 - acc: 0.9931 - val_loss: 0.0450 - val_acc: 0.9929\n",
      "Epoch 28/35\n",
      " - 257s - loss: 0.0282 - acc: 0.9925 - val_loss: 0.0312 - val_acc: 0.9948\n",
      "\n",
      "Epoch 00028: ReduceLROnPlateau reducing learning rate to 6.25000029685907e-05.\n",
      "Epoch 29/35\n",
      " - 271s - loss: 0.0239 - acc: 0.9930 - val_loss: 0.0415 - val_acc: 0.9940\n",
      "Epoch 30/35\n",
      " - 260s - loss: 0.0234 - acc: 0.9937 - val_loss: 0.0329 - val_acc: 0.9940\n",
      "\n",
      "Epoch 00030: ReduceLROnPlateau reducing learning rate to 3.125000148429535e-05.\n",
      "Epoch 31/35\n",
      " - 239s - loss: 0.0214 - acc: 0.9937 - val_loss: 0.0427 - val_acc: 0.9933\n",
      "Epoch 32/35\n",
      " - 231s - loss: 0.0231 - acc: 0.9940 - val_loss: 0.0317 - val_acc: 0.9943\n",
      "\n",
      "Epoch 00032: ReduceLROnPlateau reducing learning rate to 1.5625000742147677e-05.\n",
      "Epoch 33/35\n",
      " - 239s - loss: 0.0219 - acc: 0.9937 - val_loss: 0.0392 - val_acc: 0.9933\n",
      "Epoch 34/35\n",
      " - 234s - loss: 0.0224 - acc: 0.9939 - val_loss: 0.0398 - val_acc: 0.9931\n",
      "\n",
      "Epoch 00034: ReduceLROnPlateau reducing learning rate to 1e-05.\n",
      "Epoch 35/35\n",
      " - 239s - loss: 0.0218 - acc: 0.9943 - val_loss: 0.0410 - val_acc: 0.9933\n"
     ]
    }
   ],
   "source": [
    "# Fit the model\n",
    "history = model.fit_generator(datagen.flow(X_train,Y_train, batch_size=batch_size),\n",
    "                              epochs = epochs, validation_data = (X_val,Y_val),\n",
    "                              verbose = 2, steps_per_epoch=X_train.shape[0] // batch_size\n",
    "                              , callbacks=[learning_rate_reduction])"
   ]
  },
  {
   "cell_type": "code",
   "execution_count": 23,
   "metadata": {},
   "outputs": [],
   "source": [
    "#Save the Model\n",
    "# TODO(): YAML saving and loading model\n",
    "\n",
    "model.save('Brian_Digit_Recognizer.h5')"
   ]
  },
  {
   "cell_type": "code",
   "execution_count": 25,
   "metadata": {},
   "outputs": [
    {
     "data": {
      "text/plain": [
       "5749"
      ]
     },
     "execution_count": 25,
     "metadata": {},
     "output_type": "execute_result"
    }
   ],
   "source": [
    "json_model = model.to_json()\n",
    "open('model_architecture.json', 'w').write(json_model)\n"
   ]
  },
  {
   "cell_type": "code",
   "execution_count": 26,
   "metadata": {},
   "outputs": [],
   "source": [
    "import json"
   ]
  },
  {
   "cell_type": "code",
   "execution_count": 27,
   "metadata": {},
   "outputs": [
    {
     "data": {
      "text/plain": [
       "'\"model_architecture.json\"'"
      ]
     },
     "execution_count": 27,
     "metadata": {},
     "output_type": "execute_result"
    }
   ],
   "source": [
    "json.dumps('model_architecture.json')"
   ]
  },
  {
   "cell_type": "code",
   "execution_count": 62,
   "metadata": {},
   "outputs": [],
   "source": [
    "# predict results\n",
    "results = model.predict(test)\n",
    "\n",
    "# select the indix with the maximum probability\n",
    "# Save final prediction results into csv file\n",
    "results = np.argmax(results,axis = 1)\n",
    "\n",
    "results = pd.Series(results,name=\"Label\")\n",
    "\n",
    "submission = pd.concat([pd.Series(range(1,28001),name = \"ImageId\"),results],axis = 1)\n",
    "submission.to_csv(\"digits_submission.csv\",index=False)"
   ]
  },
  {
   "cell_type": "code",
   "execution_count": 5,
   "metadata": {},
   "outputs": [
    {
     "name": "stderr",
     "output_type": "stream",
     "text": [
      "WARNING (theano.tensor.blas): We did not find a dynamic library in the library_dir of the library we use for blas. If you use ATLAS, make sure to compile it with dynamics library.\n"
     ]
    }
   ],
   "source": [
    "############################################################loading model and testing#################\n",
    "from keras.models import load_model\n",
    "\n",
    "#loading model and making predictions\n",
    "model = load_model('Brian_Digit_Recognizer.h5')"
   ]
  },
  {
   "cell_type": "code",
   "execution_count": 6,
   "metadata": {},
   "outputs": [],
   "source": [
    "test = pd.read_csv('/Users/JoonH/Desktop/Kaggle_data/digits_test.csv').values\n"
   ]
  },
  {
   "cell_type": "code",
   "execution_count": 11,
   "metadata": {},
   "outputs": [],
   "source": [
    "test_set = test[0:3,:]\n",
    "test_set = test_set/255.0\n",
    "test_set = test_set.reshape(-1,28,28,1)"
   ]
  },
  {
   "cell_type": "code",
   "execution_count": 12,
   "metadata": {},
   "outputs": [],
   "source": [
    "predictions = model.predict_classes(test_set)"
   ]
  },
  {
   "cell_type": "code",
   "execution_count": 13,
   "metadata": {
    "scrolled": true
   },
   "outputs": [
    {
     "name": "stdout",
     "output_type": "stream",
     "text": [
      "[2 0 9]\n"
     ]
    }
   ],
   "source": [
    "print(predictions)"
   ]
  }
 ],
 "metadata": {
  "kernelspec": {
   "display_name": "Python 3",
   "language": "python",
   "name": "python3"
  },
  "language_info": {
   "codemirror_mode": {
    "name": "ipython",
    "version": 3
   },
   "file_extension": ".py",
   "mimetype": "text/x-python",
   "name": "python",
   "nbconvert_exporter": "python",
   "pygments_lexer": "ipython3",
   "version": "3.5.4"
  }
 },
 "nbformat": 4,
 "nbformat_minor": 2
}
